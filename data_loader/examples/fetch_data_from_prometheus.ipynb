{
 "cells": [
  {
   "cell_type": "code",
   "execution_count": 1,
   "metadata": {},
   "outputs": [],
   "source": [
    "import csv\n",
    "import requests\n",
    "\n",
    "PROMETHEUS_URL = 'http://10.6.0.5:12101'\n",
    "PROMETHEUS_SOURCE_NAME = 'node_exporter:9100'\n",
    "HOURS  = 72\n",
    "\n",
    "QUERY = f\"100-rate(node_cpu_seconds_total{{mode='idle',instance='{PROMETHEUS_SOURCE_NAME}'}}[10s])*100\"\n",
    "QUERY_TEMP = f'node_hwmon_temp_celsius{{instance=\"{PROMETHEUS_SOURCE_NAME}\",job=\"node\"}}'\n",
    "STEP = 10\n",
    "SINGLE_RANGE = 60 * 60 * 1\n",
    "TIMES = HOURS"
   ]
  },
  {
   "cell_type": "code",
   "execution_count": 2,
   "metadata": {},
   "outputs": [],
   "source": [
    "all_data = {}\n",
    "temp_data = {}\n",
    "\n",
    "def info_for_key(key: str):\n",
    "    if key not in all_data or len(all_data[key]) == 0:\n",
    "        return (None, None, 0)\n",
    "    first = max(el[0] for el in all_data[key])\n",
    "    last = min(el[0] for el in all_data[key])\n",
    "    count = len(all_data[key])\n",
    "    return first, last, count"
   ]
  },
  {
   "cell_type": "code",
   "execution_count": 3,
   "metadata": {},
   "outputs": [],
   "source": [
    "import time\n",
    "\n",
    "now = int(time.time())\n",
    "for i in reversed(range(TIMES)):\n",
    "    start = now - SINGLE_RANGE*(i+1)\n",
    "    end = now - SINGLE_RANGE*i\n",
    "    res = requests.get(f'{PROMETHEUS_URL}/api/v1/query_range',  params={'query': QUERY,\n",
    "                    'start': start, 'end': end, 'step': STEP})\n",
    "    res2 = requests.get(f'{PROMETHEUS_URL}/api/v1/query_range',  params={'query': QUERY_TEMP,\n",
    "                    'start': start, 'end': end, 'step': STEP})\n",
    "    results = res.json()['data']['result']\n",
    "    results_temp = res2.json()['data']['result']\n",
    "    for result in results:\n",
    "        key = str(result['metric']['cpu'])\n",
    "        if not key in all_data:\n",
    "            all_data[key] = [] \n",
    "        all_data[key].extend(result['values'])\n",
    "    for result in results_temp:\n",
    "        key = str(result['metric']['sensor'])\n",
    "        if not key in temp_data:\n",
    "            temp_data[key] = [] \n",
    "        temp_data[key].extend(result['values'])\n",
    "\n"
   ]
  },
  {
   "cell_type": "code",
   "execution_count": 4,
   "metadata": {},
   "outputs": [
    {
     "name": "stdout",
     "output_type": "stream",
     "text": [
      "23500\n"
     ]
    },
    {
     "data": {
      "text/plain": [
       "(1652607988, 1652373418, 23500)"
      ]
     },
     "execution_count": 4,
     "metadata": {},
     "output_type": "execute_result"
    }
   ],
   "source": [
    "print(len(all_data['0']))\n",
    "info_for_key('0')"
   ]
  },
  {
   "cell_type": "code",
   "execution_count": 16,
   "metadata": {},
   "outputs": [],
   "source": [
    "with open('cpu_measures.csv', 'w') as csvfile:\n",
    "    writer = csv.writer(csvfile)\n",
    "    writer.writerow(['cpu', 'timestamp', 'usage'])\n",
    "    for key in all_data:\n",
    "        for el in all_data[key]:\n",
    "            writer.writerow([key, *el])\n",
    "with open('temp_measures.csv', 'w') as csvfile:\n",
    "    writer = csv.writer(csvfile)\n",
    "    writer.writerow(['sensor', 'timestamp', 'temperature'])\n",
    "    for key in temp_data:\n",
    "        for el in temp_data[key]:\n",
    "            writer.writerow([key, *el])"
   ]
  }
 ],
 "metadata": {
  "interpreter": {
   "hash": "597eca8bcad7c81713380a7b6230faba59fb723ece54e8236eed6afc80a23f29"
  },
  "kernelspec": {
   "display_name": "Python 3.9.12 ('AGH_8')",
   "language": "python",
   "name": "python3"
  },
  "language_info": {
   "codemirror_mode": {
    "name": "ipython",
    "version": 3
   },
   "file_extension": ".py",
   "mimetype": "text/x-python",
   "name": "python",
   "nbconvert_exporter": "python",
   "pygments_lexer": "ipython3",
   "version": "3.9.12"
  },
  "orig_nbformat": 4
 },
 "nbformat": 4,
 "nbformat_minor": 2
}
